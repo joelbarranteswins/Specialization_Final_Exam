{
 "cells": [
  {
   "cell_type": "markdown",
   "metadata": {},
   "source": [
    "<center>\n",
    "<img src=\"https://www.ctic.uni.edu.pe/wp-content/uploads/2020/05/logo-ctic-footer.png\" >\n",
    "</center></br>\n",
    "\n",
    "<span style=\"color:cyan; font-size:1.5em; font-family:Papyrus\"> \n",
    "<b>Nombre:</b>  Joel Angel David Barrantes Palacios</br>\n",
    "<b>Especialización:</b>  Programa de Especialización Machine Learning</br>\n",
    "<b>Examen:</b>  Final</br>\n",
    "</span> "
   ]
  },
  {
   "cell_type": "markdown",
   "metadata": {},
   "source": [
    "## Repositorio en Github\n",
    "\n",
    "Por motivos de tamaño de todos los archivos, he decidido crear un repositorio para la resolucion del examen.\n",
    "\n",
    "* click en el siguiente link para entrar en el repositorio: </br></br>\n",
    "  <b>[Specialization_Final_Exam](https://github.com/joelbarranteswins/Specialization_Final_Exam)</b>"
   ]
  }
 ],
 "metadata": {
  "kernelspec": {
   "display_name": "Python 3.10.5 64-bit",
   "language": "python",
   "name": "python3"
  },
  "language_info": {
   "codemirror_mode": {
    "name": "ipython",
    "version": 3
   },
   "file_extension": ".py",
   "mimetype": "text/x-python",
   "name": "python",
   "nbconvert_exporter": "python",
   "pygments_lexer": "ipython3",
   "version": "3.10.5"
  },
  "orig_nbformat": 4,
  "vscode": {
   "interpreter": {
    "hash": "2de7b4a052e65261ea8541eacad9ab5841dbc9fbfe443eb5e82600569ad0c738"
   }
  }
 },
 "nbformat": 4,
 "nbformat_minor": 2
}
